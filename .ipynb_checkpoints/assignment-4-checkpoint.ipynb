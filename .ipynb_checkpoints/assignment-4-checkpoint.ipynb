{
 "cells": [
  {
   "cell_type": "markdown",
   "metadata": {},
   "source": [
    "# Assignment 4: Street Networks & Web Scraping\n",
    "\n",
    "**Part 1: Visualizing crash data in Philadelphia**\n",
    "\n",
    "In this section, you will use `osmnx` to analyze the crash incidence in Center City. \n",
    "\n",
    "\n",
    "**Part 2: Scraping Craigslist**\n",
    "\n",
    "In this section, you will use Selenium and BeautifulSoup to scrape data for hundreds of apartments from Philadelphia's Craigslist portal.\n"
   ]
  },
  {
   "cell_type": "markdown",
   "metadata": {
    "slideshow": {
     "slide_type": "slide"
    }
   },
   "source": [
    "## Part 1: Visualizing crash data in Philadelphia"
   ]
  },
  {
   "cell_type": "markdown",
   "metadata": {
    "slideshow": {
     "slide_type": "slide"
    }
   },
   "source": [
    "### 1.1 Load the geometry for the region being analyzed\n",
    "\n",
    "We'll analyze crashes in the \"Central\" planning district in Philadelphia, a rough approximation for Center City. [Planning districts](https://www.opendataphilly.org/dataset/planning-districts) can be loaded from Open Data Philly. Read the data into a GeoDataFrame using the following link:\n",
    "\n",
    "[http://data.phl.opendata.arcgis.com/datasets/0960ea0f38f44146bb562f2b212075aa_0.geojson](http://data.phl.opendata.arcgis.com/datasets/0960ea0f38f44146bb562f2b212075aa_0.geojson)\n",
    "\n",
    "Select the \"Central\" district and extract the geometry polygon for only this district. After this part, you should have a polygon variable of type `shapely.geometry.polygon.Polygon`."
   ]
  },
  {
   "cell_type": "code",
   "execution_count": null,
   "metadata": {},
   "outputs": [],
   "source": []
  },
  {
   "cell_type": "markdown",
   "metadata": {
    "slideshow": {
     "slide_type": "slide"
    }
   },
   "source": [
    "### 1.2 Get the street network graph\n",
    "\n",
    "Use OSMnx to create a network graph (of type 'drive') from your polygon boundary in 1.1."
   ]
  },
  {
   "cell_type": "code",
   "execution_count": null,
   "metadata": {},
   "outputs": [],
   "source": []
  },
  {
   "cell_type": "markdown",
   "metadata": {
    "slideshow": {
     "slide_type": "slide"
    }
   },
   "source": [
    "### 1.3 Convert your network graph edges to a GeoDataFrame\n",
    "\n",
    "Use OSMnx to create a GeoDataFrame of the network edges in the graph object from part 1.2. The GeoDataFrame should contain the edges but not the nodes from the network."
   ]
  },
  {
   "cell_type": "code",
   "execution_count": null,
   "metadata": {},
   "outputs": [],
   "source": []
  },
  {
   "cell_type": "markdown",
   "metadata": {
    "slideshow": {
     "slide_type": "slide"
    }
   },
   "source": [
    "### 1.4 Load PennDOT crash data\n",
    "\n",
    "Data for crashes (of all types) for 2020, 2021, and 2022 in Philadelphia County is available at the following path:\n",
    "\n",
    "`./data/CRASH_PHILADELPHIA_XXXX.csv`\n",
    "\n",
    "You should see three separate files in the `data/` folder. Use pandas to read each of the CSV files, and combine them into a single dataframe using `pd.concat()`.\n",
    "\n",
    "The data was downloaded for Philadelphia County [from here](https://crashinfo.penndot.gov/PCIT/welcome.html)."
   ]
  },
  {
   "cell_type": "code",
   "execution_count": null,
   "metadata": {},
   "outputs": [],
   "source": []
  },
  {
   "cell_type": "markdown",
   "metadata": {
    "slideshow": {
     "slide_type": "slide"
    }
   },
   "source": [
    "### 1.5 Convert the crash data to a GeoDataFrame\n",
    "\n",
    "You will need to use the `DEC_LAT` and `DEC_LONG` columns for latitude and longitude.\n",
    "\n",
    "The full data dictionary for the data is [available here](http://pennshare.maps.arcgis.com/sharing/rest/content/items/ffe20c6c3c594389b275c6772a281bcd/data)"
   ]
  },
  {
   "cell_type": "code",
   "execution_count": null,
   "metadata": {},
   "outputs": [],
   "source": []
  },
  {
   "cell_type": "markdown",
   "metadata": {
    "slideshow": {
     "slide_type": "slide"
    }
   },
   "source": [
    "### 1.6 Trim the crash data to Center City\n",
    "\n",
    "1. Get the boundary of the edges data frame (from part 1.3). Accessing the `.geometry.unary_union.convex_hull` property will give you a nice outer boundary region.\n",
    "1. Trim the crashes using the `within()` function of the crash GeoDataFrame to find which crashes are within the boundary.\n",
    "\n",
    "There should be about 3,750 crashes within the Central district."
   ]
  },
  {
   "cell_type": "code",
   "execution_count": null,
   "metadata": {},
   "outputs": [],
   "source": []
  },
  {
   "cell_type": "markdown",
   "metadata": {},
   "source": [
    "### 1.7 Re-project our data into an approriate CRS\n",
    "\n",
    "We'll need to find the nearest edge (street) in our graph for each crash. To do this, `osmnx` will calculate the distance from each crash to the graph edges. For this calculation to be accurate, we need to convert from latitude/longitude \n",
    "\n",
    "**We'll convert the local state plane CRS for Philadelphia, EPSG=2272**\n",
    "\n",
    "#### Two steps:\n",
    "1. Project the graph object (`G`) using the `ox.project_graph`. Run `ox.project_graph?` to see the documentation for how to convert to a specific CRS. \n",
    "1. Project the crash data using the `.to_crs()` function."
   ]
  },
  {
   "cell_type": "code",
   "execution_count": null,
   "metadata": {},
   "outputs": [],
   "source": []
  },
  {
   "cell_type": "markdown",
   "metadata": {
    "slideshow": {
     "slide_type": "slide"
    }
   },
   "source": [
    "### 1.8 Find the nearest edge for each crash\n",
    "\n",
    "See: `ox.distance.nearest_edges()`. It takes three arguments:\n",
    "\n",
    "- the network graph\n",
    "- the longitude of your crash data (the `x` attribute of the `geometry` column)\n",
    "- the latitude of your crash data (the `y` attribute of the `geometry` column)\n",
    "\n",
    "You will get a numpy array with 3 columns that represent `(u, v, key)` where each `u` and `v` are the node IDs that the edge links together. We will ignore the `key` value for our analysis."
   ]
  },
  {
   "cell_type": "code",
   "execution_count": null,
   "metadata": {},
   "outputs": [],
   "source": []
  },
  {
   "cell_type": "markdown",
   "metadata": {
    "slideshow": {
     "slide_type": "slide"
    }
   },
   "source": [
    "### 1.9 Calculate the total number of crashes per street\n",
    "\n",
    "1. Make a DataFrame from your data from part 1.7 with three columns, `u`, `v`, and `key` (we will only use the `u` and `v` columns)\n",
    "1. Group by `u` and `v` and calculate the size\n",
    "1. Reset the index and name your `size()` column as `crash_count`\n",
    "\n",
    "After this step you should have a DataFrame with three columns: `u`, `v`, and `crash_count`."
   ]
  },
  {
   "cell_type": "code",
   "execution_count": null,
   "metadata": {},
   "outputs": [],
   "source": []
  },
  {
   "cell_type": "markdown",
   "metadata": {
    "slideshow": {
     "slide_type": "slide"
    }
   },
   "source": [
    "### 1.10 Merge your edges GeoDataFrame and crash count DataFrame\n",
    "\n",
    "You can use pandas to merge them on the `u` and `v` columns. This will associate the total crash count with each edge in the street network. \n",
    "\n",
    "**Tips:** \n",
    "   - Use a `left` merge where the first argument of the merge is the edges GeoDataFrame. This ensures no edges are removed during the merge.\n",
    "   - Use the `fillna(0)` function to fill in missing crash count values with zero."
   ]
  },
  {
   "cell_type": "code",
   "execution_count": null,
   "metadata": {},
   "outputs": [],
   "source": []
  },
  {
   "cell_type": "markdown",
   "metadata": {},
   "source": [
    "### 1.11 Calculate a \"Crash Index\"\n",
    "\n",
    "Let's calculate a \"crash index\" that provides a normalized measure of the crash frequency per street. To do this, we'll need to:\n",
    "\n",
    "1. Calculate the total crash count divided by the street length, using the `length` column\n",
    "1. Perform a log transformation of the crash/length variable — use numpy's `log10()` function\n",
    "1. Normalize the index from 0 to 1 (see the lecture notes for an example of this transformation)\n",
    "\n",
    "**Note: since the crash index involves a log transformation, you should only calculate the index for streets where the crash count is greater than zero**.\n",
    "\n",
    "After this step, you should have a new column in the data frame from 1.9 that includes a column called part 1.9."
   ]
  },
  {
   "cell_type": "code",
   "execution_count": null,
   "metadata": {},
   "outputs": [],
   "source": []
  },
  {
   "cell_type": "markdown",
   "metadata": {},
   "source": [
    "### 1.12 Plot a histogram of the crash index values\n",
    "\n",
    "Use matplotlib's `hist()` function to plot the crash index values from the previous step.\n",
    "\n",
    "You should see that the index values are Gaussian-distributed, providing justification for why we log-transformed!"
   ]
  },
  {
   "cell_type": "code",
   "execution_count": null,
   "metadata": {},
   "outputs": [],
   "source": []
  },
  {
   "cell_type": "markdown",
   "metadata": {
    "slideshow": {
     "slide_type": "slide"
    }
   },
   "source": [
    "### 1.13 Plot an interactive map of the street networks, colored by the crash index\n",
    "\n",
    "You can use GeoPandas to make an interactive Folium map, coloring the streets by the crash index column.\n",
    "\n",
    "**Tip:** if you use the viridis color map, try using a \"dark\" tile set for better constrast of the colors."
   ]
  },
  {
   "cell_type": "code",
   "execution_count": null,
   "metadata": {},
   "outputs": [],
   "source": []
  },
  {
   "cell_type": "code",
   "execution_count": null,
   "metadata": {},
   "outputs": [],
   "source": []
  },
  {
   "cell_type": "markdown",
   "metadata": {},
   "source": [
    "## Part 2: Scraping Craigslist\n",
    "\n",
    "In this part, we'll be extracting information on apartments from Craigslist search results. You'll be using Selenium and BeautifulSoup to extract the relevant information from the HTML text. \n",
    "\n",
    "For reference on CSS selectors, please see the [notes from Week 6](https://github.com/MUSA-550-Fall-2022/week-6/blob/main/css-selectors.md)."
   ]
  },
  {
   "cell_type": "markdown",
   "metadata": {},
   "source": [
    "### Primer: the Craigslist website URL\n",
    "\n",
    "We'll start with the Philadelphia region. First we need to figure out how to submit a query to Craigslist. As with many websites, one way you can do this is simply by constructing the proper URL and sending it to Craigslist. \n",
    "\n",
    "[https://philadelphia.craigslist.org/search/apa?min_price=1&min_bedrooms=1&minSqft=1#search=1~gallery~0~0](https://philadelphia.craigslist.org/search/apa?min_price=1&min_bedrooms=1&minSqft=1#search=1~gallery~0~0)\n",
    "\n",
    "There are **three** components to this URL. \n",
    "\n",
    "1. The base URL: `http://philadelphia.craigslist.org/search/apa`\n",
    "\n",
    "2. The user's search parameters: `?min_price=1&min_bedrooms=1&minSqft=1`\n",
    "\n",
    "> We will send nonzero defaults for some parameters (bedrooms, size, price) in order to exclude results that have empty values for these parameters.\n",
    "\n",
    "\n",
    "3. The URL *hash*: `#search=1~gallery~0~0`\n",
    "\n",
    "> As we will see later, this part will be important because it contains the search page result number.\n",
    "\n",
    "\n",
    "The Craigslist website requires Javascript, so we'll need to use Selenium to load the page, and then use BeautifulSoup to extract the information we want. \n",
    "\n"
   ]
  },
  {
   "cell_type": "markdown",
   "metadata": {},
   "source": [
    "### 2.1 Initialize a selenium driver and open Craigslist\n",
    "\n",
    "As discussed in lecture, you can use Chrome, Firefox, or Edge as your selenium driver. In this part, you should do two things:\n",
    "\n",
    "1. Initialize the selenium driver\n",
    "1. Use the `driver.get()` function to open the following URL:\n",
    "\n",
    "[https://philadelphia.craigslist.org/search/apa?min_price=1&min_bedrooms=1&minSqft=1#search=1~gallery~0~0](https://philadelphia.craigslist.org/search/apa?min_price=1&min_bedrooms=1&minSqft=1#search=1~gallery~0~0)\n",
    "\n",
    "This will give you the search results for 1-bedroom apartments in Philadelphia.\n"
   ]
  },
  {
   "cell_type": "code",
   "execution_count": null,
   "metadata": {},
   "outputs": [],
   "source": []
  },
  {
   "cell_type": "markdown",
   "metadata": {},
   "source": [
    "### 2.2 Initialize your \"soup\"\n",
    "\n",
    "Once selenium has the page open, we can get the page source from the driver and use BeautifulSoup to parse it. In this part, initialize a BeautifulSoup object with the driver's page source\n",
    "\n"
   ]
  },
  {
   "cell_type": "code",
   "execution_count": null,
   "metadata": {},
   "outputs": [],
   "source": []
  },
  {
   "cell_type": "markdown",
   "metadata": {},
   "source": [
    "### 2.3 Parsing the HTML\n",
    "\n",
    "Now that we have our \"soup\" object, we can use BeautifulSoup to extract out the elements we need:\n",
    "\n",
    "- Use the Web Inspector to identify the HTML element that holds the information on each apartment listing.\n",
    "- Use BeautifulSoup to extract these elements from the HTML. \n",
    "\n",
    "\n",
    "At the end of this part, you should have a list of 120 elements, where each element is the listing for a specific apartment on the search page."
   ]
  },
  {
   "cell_type": "code",
   "execution_count": null,
   "metadata": {},
   "outputs": [],
   "source": []
  },
  {
   "cell_type": "markdown",
   "metadata": {},
   "source": [
    "### 2.4 Find the relevant pieces of information\n",
    "\n",
    "We will now focus on the **first element** in the list of 120 apartments. Use the `prettify()` function to print out the HTML for this first element. \n",
    "\n",
    "From this HTML, identify the HTML elements that hold:\n",
    "\n",
    "- The apartment price\n",
    "- The number of bedrooms\n",
    "- The square footage\n",
    "- The apartment title\n",
    "\n",
    "For the first apartment, print out each of these pieces of information, using BeautifulSoup to select the proper elements.\n"
   ]
  },
  {
   "cell_type": "code",
   "execution_count": null,
   "metadata": {},
   "outputs": [],
   "source": []
  },
  {
   "cell_type": "markdown",
   "metadata": {},
   "source": [
    "### 2.5 Functions to format the results \n",
    "\n",
    "In this section, you'll create functions that take in the raw string elements for price, size, and number of bedrooms and returns them formatted as numbers.\n",
    "\n",
    "I've started the functions to format the values. You should finish theses functions in this section.\n",
    "\n",
    "**Hints**\n",
    "- You can use string formatting functions like `string.replace()` and `string.strip()`\n",
    "- The `int()` and `float()` functions can convert strings to numbers"
   ]
  },
  {
   "cell_type": "code",
   "execution_count": 35,
   "metadata": {},
   "outputs": [],
   "source": [
    "def format_bedrooms(bedrooms_string):\n",
    "    # Format the bedrooms string and return an int\n",
    "    # \n",
    "    # This will involve using the string.replace() function to \n",
    "    # remove unwanted characters\n",
    "    \n",
    "    return"
   ]
  },
  {
   "cell_type": "code",
   "execution_count": 43,
   "metadata": {},
   "outputs": [],
   "source": [
    "def format_size(size_string):\n",
    "    # Format the size string and return a float\n",
    "    # \n",
    "    # This will involve using the string.replace() function to \n",
    "    # remove unwanted characters\n",
    "    \n",
    "    return "
   ]
  },
  {
   "cell_type": "code",
   "execution_count": 36,
   "metadata": {},
   "outputs": [],
   "source": [
    "def format_price(price_string):\n",
    "    # Format the price string and return a float\n",
    "    # \n",
    "    # This will involve using the string.strip() function to \n",
    "    # remove unwanted characters\n",
    "    return "
   ]
  },
  {
   "cell_type": "markdown",
   "metadata": {},
   "source": [
    "### 2.6 Putting it all together\n",
    "\n",
    "In this part, you'll complete the code block below using results from previous parts. The code will loop over 5 pages of search results and scrape data for 600 apartments. \n",
    "\n",
    "We can get a specific page by changing the `search=PAGE` part of the URL hash. For example, to get page 2 instead of page 1, we will navigate to:\n",
    "\n",
    "\n",
    "[https://philadelphia.craigslist.org/search/apa?min_price=1&min_bedrooms=1&minSqft=1#search=2~gallery~0~0](https://philadelphia.craigslist.org/search/apa?min_price=1&min_bedrooms=1&minSqft=1#search=2~gallery~0~0)"
   ]
  },
  {
   "cell_type": "markdown",
   "metadata": {},
   "source": [
    "In the code below, the outer for loop will loop over 5 pages of search results. The inner for loop will loop over the 120 apartments listed on each search page.\n",
    "\n",
    "Fill in the missing pieces of the inner loop using the code from the previous section. We will be able to extract out the relevant pieces of info for each apartment. \n",
    "\n",
    "After filling in the missing pieces and executing the code cell, you should have a Data Frame called `results` that holds the data for 600 apartment listings.\n",
    "\n",
    "#### Notes\n",
    "\n",
    "Be careful if you try to scrape more listings. Craigslist will temporarily ban your IP address (for a very short time) if you scrape too much at once. I've added a `sleep()` function to the for loop to wait 30 seconds between scraping requests.\n",
    "\n",
    "If the for loop gets stuck at the \"Processing page X...\" step for more than a minute or so, your IP address is probably banned temporarily, and you'll have to wait a few minutes before trying again."
   ]
  },
  {
   "cell_type": "code",
   "execution_count": 47,
   "metadata": {},
   "outputs": [],
   "source": [
    "from time import sleep"
   ]
  },
  {
   "cell_type": "code",
   "execution_count": null,
   "metadata": {
    "tags": []
   },
   "outputs": [],
   "source": [
    "results = []\n",
    "\n",
    "# search in batches of 120 for 5 pages\n",
    "# NOTE: you will get temporarily banned if running more than ~5 pages or so\n",
    "# the API limits are more leninient during off-peak times, and you can try\n",
    "# experimenting with more pages\n",
    "max_pages = 5\n",
    "\n",
    "# The base URL we will be using\n",
    "base_url = \"https://philadelphia.craigslist.org/search/apa?min_price=1&min_bedrooms=1&minSqft=1\"\n",
    "\n",
    "# loop over each page of search results\n",
    "for page_num in range(1, max_pages + 1):\n",
    "    print(f\"Processing page {page_num}...\")\n",
    "\n",
    "    # Update the URL hash for this page number and make the combined URL\n",
    "    url_hash = f\"#search={page_num}~gallery~0~0\"\n",
    "    url = base_url + url_hash\n",
    "\n",
    "    # Go to the driver and wait for 5 seconds\n",
    "    driver.get(url)\n",
    "    sleep(5)\n",
    "\n",
    "    # YOUR CODE: get the list of all apartments\n",
    "    # This is the same code from Part 1.2 and 1.3\n",
    "    # It should be a list of 120 apartments\n",
    "    soup = \n",
    "    apts = \n",
    "    print(\"Number of apartments = \", len(apts))\n",
    "\n",
    "    # loop over each apartment in the list\n",
    "    page_results = []\n",
    "    for apt in apts:\n",
    "\n",
    "        # YOUR CODE: the bedrooms string\n",
    "        bedrooms = \n",
    "\n",
    "        # YOUR CODE: the size string\n",
    "        size = \n",
    "\n",
    "        # YOUR CODE: the title string\n",
    "        title = \n",
    "\n",
    "        # YOUR CODE: the price string\n",
    "        price = \n",
    "\n",
    "\n",
    "        # Format using functions from Part 1.5\n",
    "        bedrooms = format_bedrooms(bedrooms)\n",
    "        size = format_size(size)\n",
    "        price = format_price(price)\n",
    "\n",
    "        # Save the result\n",
    "        page_results.append([price, size, bedrooms, title])\n",
    "\n",
    "    # Create a dataframe and save\n",
    "    col_names = [\"price\", \"size\", \"bedrooms\", \"title\"]\n",
    "    df = pd.DataFrame(page_results, columns=col_names)\n",
    "    results.append(df)\n",
    "\n",
    "    print(\"sleeping for 10 seconds between calls\")\n",
    "    sleep(10)\n",
    "\n",
    "# Finally, concatenate all the results\n",
    "results = pd.concat(results, axis=0).reset_index(drop=True)"
   ]
  },
  {
   "cell_type": "code",
   "execution_count": null,
   "metadata": {},
   "outputs": [],
   "source": []
  },
  {
   "cell_type": "markdown",
   "metadata": {},
   "source": [
    "### 2.7 Plotting the distribution of prices\n",
    "\n",
    "Use matplotlib's `hist()` function to make two histograms for:\n",
    "\n",
    "- Apartment prices\n",
    "- Apartment prices per square foot (price / size)\n",
    "\n",
    "Make sure to add labels to the respective axes and a title describing the plot."
   ]
  },
  {
   "cell_type": "markdown",
   "metadata": {},
   "source": [
    "#### Side note: rental prices per sq. ft. from Craigslist\n",
    "\n",
    "The histogram of price per sq ft should be centered around ~1.5. Here is a plot of how Philadelphia's rents compare to the other most populous cities:\n",
    "\n",
    "<img src=\"imgs/rental_prices_psf.png\" width=600/>\n",
    "\n",
    "[Source](https://arxiv.org/pdf/1605.05397.pdf)"
   ]
  },
  {
   "cell_type": "markdown",
   "metadata": {},
   "source": [
    "### 2.8 Comparing prices for different sizes \n",
    "\n",
    "Use `altair` to explore the relationship between price, size, and number of bedrooms. Make an interactive scatter plot of price (x-axis) vs. size (y-axis), with the points colored by the number of bedrooms. \n",
    "\n",
    "Make sure the plot is interactive (zoom-able and pan-able) and add a tooltip with all of the columns in our scraped data frame.\n",
    "\n",
    "With this sort of plot, you can quickly see the outlier apartments in terms of size and price."
   ]
  },
  {
   "cell_type": "code",
   "execution_count": null,
   "metadata": {},
   "outputs": [],
   "source": []
  }
 ],
 "metadata": {
  "kernelspec": {
   "display_name": "Python 3 (ipykernel)",
   "language": "python",
   "name": "python3"
  },
  "language_info": {
   "codemirror_mode": {
    "name": "ipython",
    "version": 3
   },
   "file_extension": ".py",
   "mimetype": "text/x-python",
   "name": "python",
   "nbconvert_exporter": "python",
   "pygments_lexer": "ipython3",
   "version": "3.10.12"
  }
 },
 "nbformat": 4,
 "nbformat_minor": 4
}
